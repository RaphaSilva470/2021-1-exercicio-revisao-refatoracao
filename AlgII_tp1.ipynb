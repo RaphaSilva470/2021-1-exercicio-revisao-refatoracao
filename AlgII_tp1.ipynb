{
  "nbformat": 4,
  "nbformat_minor": 0,
  "metadata": {
    "colab": {
      "provenance": [],
      "collapsed_sections": [],
      "authorship_tag": "ABX9TyN7aJiJlI1qktWrVD2X2PUz",
      "include_colab_link": true
    },
    "kernelspec": {
      "name": "python3",
      "display_name": "Python 3"
    },
    "language_info": {
      "name": "python"
    }
  },
  "cells": [
    {
      "cell_type": "markdown",
      "metadata": {
        "id": "view-in-github",
        "colab_type": "text"
      },
      "source": [
        "<a href=\"https://colab.research.google.com/github/Raphahausen/2021-1-exercicio-revisao-refatoracao/blob/main/AlgII_tp1.ipynb\" target=\"_parent\"><img src=\"https://colab.research.google.com/assets/colab-badge.svg\" alt=\"Open In Colab\"/></a>"
      ]
    },
    {
      "cell_type": "markdown",
      "source": [
        "Raphaela Maria Costa e Silva - 2020006973\n",
        "\n",
        "---\n",
        "\n"
      ],
      "metadata": {
        "id": "zZvPhNUyK0vn"
      }
    },
    {
      "cell_type": "markdown",
      "source": [
        "# Introdução\n",
        "A proposta do trabalho foi criar um modelo de classificação em aprendizado supervisionado. O algoritmo foi implementado da seguinte forma: \n",
        "Primeiro foi feito uma envoltória convexa para cada rótulo e foi checado se as envoltórias se interceptavam, caso sim as classes não eram linearmente separáveis, sendo assim impossível criar tal modelo. Caso não se interceptassem, é linearmente separável e portanto é possível criar o modelo.\n",
        "O modelo foi criado usando o segmento criado a partir dos vértices mais perto de cada envoltória, e o modelo foi a linha perpendicular à mediana desse segmento. Desse modo, o algoritmo criado para tal problema ajusta o modelo linear para os dados.\n",
        " \n",
        "\n",
        "\n"
      ],
      "metadata": {
        "id": "xB7K4Wk1F7UG"
      }
    },
    {
      "cell_type": "markdown",
      "source": [
        "## Envoltória\n",
        "Para fazer a envoltória convexa foi usado o algoritmo Wrapping.\n",
        "Foram usadas a classe Point para representar os pontos. O algoritmo foi realizado da seguinte maneira, primeiro é achado o ponto mais à esquerda no plano cartesiano. Então os seguintes passos são repetidos até que seja achado o primeiro ponto novamente: acha o próximo ponto q que é anti horário em relação ao ponto anterior e ao próximo ponto, e se for encontrado outro ponto p mais anti horário que q, então q é substituído por p. O ponto final encontrado é o mais anti horário, pontanto ele será o próximo ponto na envoltória."
      ],
      "metadata": {
        "id": "SPvDywANKTiT"
      }
    },
    {
      "cell_type": "code",
      "source": [
        "import pandas as pd\n",
        "import numpy as np\n",
        "import random\n",
        "import matplotlib.pyplot as plt\n",
        "\n",
        "class Point:\n",
        "    def __init__(self, x, y):\n",
        "        self.x = x\n",
        "        self.y = y\n",
        "\n",
        "\n",
        "    def subtract(self, p):\n",
        "        return Point(self.x - p.x, self.y - p.y)\n",
        "\n",
        "    def __str__(self):\n",
        "        return '(' + str(self.x) + ', ' + str(self.y) + ')'\n",
        "        \n",
        "def Left_index(points):\n",
        "    # ponto mais a esquerda\n",
        "    minn = 0\n",
        "    for i in range(1,len(points)):\n",
        "        if points[i].x < points[minn].x:\n",
        "            minn = i\n",
        "        elif points[i].x == points[minn].x:\n",
        "            if points[i].y > points[minn].y:\n",
        "                minn = i\n",
        "    return minn\n",
        " \n",
        "def orientation(p, q, r):\n",
        "    # 0 colinear\n",
        "    # 1 direita\n",
        "    # 2 esquerda\n",
        "\n",
        "    val = (q.y - p.y) * (r.x - q.x) - \\\n",
        "          (q.x - p.x) * (r.y - q.y)\n",
        " \n",
        "    if val == 0:\n",
        "        return 0\n",
        "    elif val > 0:\n",
        "        return 1\n",
        "    else:\n",
        "        return 2\n",
        "\n",
        "\n",
        "def convexHull(points, n):\n",
        "     \n",
        "    # se tiver 3 pontos\n",
        "    if n < 3:\n",
        "        return\n",
        " \n",
        "    # acha o mais a esquerda\n",
        "    l = Left_index(points)\n",
        " \n",
        "    hull = []\n",
        "     \n",
        "    # olha os pontos para a esquerda\n",
        "    p = l\n",
        "    q = 0\n",
        "    while(True):\n",
        "         \n",
        "        # adiciona ao resultado\n",
        "        hull.append(p)\n",
        " \n",
        "        q = (p + 1) % n\n",
        " \n",
        "        for i in range(n):\n",
        "             \n",
        "            # Se for mais a esquerda que o q atual, atualiza\n",
        "            if(orientation(points[p],\n",
        "                           points[i], points[q]) == 2):\n",
        "                q = i\n",
        "        p = q\n",
        " \n",
        "        if(p == l):\n",
        "            break\n",
        "\n",
        "    pontosl= []\n",
        "    pontosx= []\n",
        "    pontosy= []\n",
        "    for each in hull:\n",
        "\n",
        "\n",
        "        pontosl.append(Point(points[each].x, points[each].y))\n",
        "        pontosx.append(points[each].x)\n",
        "        pontosy.append(points[each].y)\n",
        "    pontosx.append(pontosx[0])\n",
        "    pontosy.append(pontosy[0])\n",
        "\n",
        "    return pontosl, pontosx, pontosy\n",
        "  "
      ],
      "metadata": {
        "id": "jsmk8Bq-KAqT",
        "colab": {
          "base_uri": "https://localhost:8080/"
        },
        "outputId": "d8a63747-b7ad-435c-fd69-be225219a05c"
      },
      "execution_count": null,
      "outputs": [
        {
          "output_type": "stream",
          "name": "stdout",
          "text": [
            "Looking in indexes: https://pypi.org/simple, https://us-python.pkg.dev/colab-wheels/public/simple/\n",
            "Requirement already satisfied: bintrees in /usr/local/lib/python3.7/dist-packages (2.2.0)\n"
          ]
        }
      ]
    },
    {
      "cell_type": "markdown",
      "source": [
        "##Varredura Linear\n",
        "Na varredura linear foram usadas as classes Segment, que tem dois pontos do segmento e uma tag para qual poligono o segmento pertence, Event que possui um ponto e se esse ponto é o começo de um segmento ou não e o índice original desse ponto."
      ],
      "metadata": {
        "id": "cL4OO9VVrzTu"
      }
    },
    {
      "cell_type": "code",
      "source": [
        "class Segment:\n",
        "\n",
        "    def __init__(self, left, right, polygon):\n",
        "        self.left = left\n",
        "        self.right = right\n",
        "        self.polygon = polygon\n",
        "\n",
        "class Event:\n",
        "    def __init__(self, x, y, l, i, sy):\n",
        "\n",
        "        self.x = x\n",
        "        self.y = y\n",
        "        self.isLeft = l\n",
        "        self.index = i\n",
        "        self.lefty = sy\n",
        "    def __lt__(self, e):\n",
        "        if self.y == e.y:\n",
        "            return self.x<e.y\n",
        "        return self.y < e.y\n",
        "\n",
        "def onSegment(p, q, r):\n",
        "    if q.x <= max(p.x, r.x) and q.x >= min(p.x, r.x) and q.y <= max(p.y, r.y) and q.y >= min(p.y, r.y):\n",
        "        return True\n",
        "\n",
        "    return False\n",
        "\n",
        "def doIntersect(s1, s2):\n",
        "\n",
        "    p1 = s1.left\n",
        "    q1 = s1.right\n",
        "    p2 = s2.left\n",
        "    q2 = s2.right\n",
        "\n",
        "    o1 = orientation(p1, q1, p2)\n",
        "    o2 = orientation(p1, q1,q2)\n",
        "    o3 = orientation(p2, q2, p1)\n",
        "    o4 = orientation(p2, q2, q1)\n",
        "\n",
        "    if o1 != o2 and o3 != o4:\n",
        "        return True\n",
        "\n",
        "    if o1 == 0 and onSegment (p1, p2, q1):\n",
        "        return True\n",
        "\n",
        "    if o2 == 0 and onSegment(p1, p2, q1):\n",
        "        return True\n",
        "\n",
        "    if o3 == 0 and onSegment(p1, p2, q1):\n",
        "        return True\n",
        "\n",
        "    if o4 == 0 and onSegment(p1, p2, q1):\n",
        "        return True\n",
        "\n",
        "    return False \n"
      ],
      "metadata": {
        "id": "w1Zh60mZ6iHZ"
      },
      "execution_count": null,
      "outputs": []
    },
    {
      "cell_type": "markdown",
      "source": [
        "Para realizar a varredura linear primeiro foi ajustado os pontos recebidos da envoltória convexa, transformando os pontos das envoltórias em um array de segmentos. E então esses pontos são ordenados em relação à coordenada x e é criado uma BST vazia que vai conter os segmentos ativos do algoritmo. Em seguida, insere o ponto p na BST e é verificado se o ponto p é o início do segmento (isLeft == True), se é verifica se os segmentos mais próximos em cima e abaixo na BST interceptam o segmento do ponto p. Se p é o final do segmento, checa se os segmentos mais próximos em cima e abaixo na BST interceptam o segmento do ponto p e retira o segmento de p da BST."
      ],
      "metadata": {
        "id": "jbpw1eCHtemV"
      }
    },
    {
      "cell_type": "code",
      "source": [
        "!pip install bintrees\n",
        "import operator\n",
        "from bintrees import AVLTree\n",
        "\n",
        "def intersect(arr):\n",
        "  e = []\n",
        "  for i in range(0, len(arr)):\n",
        "      e.append(Event(arr[i].left.x,arr[i].left.y, True,i, arr[i].left.y))\n",
        "      e.append(Event(arr[i].right.x,arr[i].right.y, False,i, arr[i].left.y))\n",
        "\n",
        "  e.sort( key=operator.attrgetter('x'))\n",
        "  t = AVLTree()\n",
        "\n",
        "  for i in e:\n",
        "      index = i.index\n",
        "\n",
        "      if(i.isLeft == True):\n",
        "          if(len(t) > 1):\n",
        "            b = t.max_key\n",
        "            if(b() > index):\n",
        "                next = t.ceiling_item(index)\n",
        "            else:\n",
        "                next = t.min_item()\n",
        "            if(arr[next[1].index].polygon != arr[index].polygon):\n",
        "               if(doIntersect(arr[next[1].index], arr[index])):\n",
        "                    return True\n",
        "            a = t.min_key\n",
        "            if(a() < index):\n",
        "                prev = t.floor_item(index) \n",
        "            else:\n",
        "                prev = t.max_item()\n",
        "            if(arr[prev[1].index].polygon != arr[index].polygon):\n",
        "                if(doIntersect(arr[prev[1].index], arr[index])):\n",
        "                    return True\n",
        "\n",
        "          t.insert(index + i.lefty, i)\n",
        "\n",
        "  if(i.isLeft == False):\n",
        "      if(len(t) > 1):\n",
        "          c = t.min_key\n",
        "          if(c() < index):\n",
        "              prev = t.floor_item(index) \n",
        "          else:\n",
        "              prev = t.max_item()\n",
        "          d = t.max_key\n",
        "          if(d() > index):\n",
        "              next = t.ceiling_item(index) \n",
        "          else:\n",
        "              next = t.min_item()\n",
        "          #if(next[0] != t.max_key() and prev[0] != t.max_item()):\n",
        "          if (doIntersect(arr[prev[1].index], arr[next[1].index]) == 1 and arr[prev[1].index].polygon != arr[next[1].index].polygon):\n",
        "              return True\n",
        "          t.remove(index + i.lefty) \n",
        "\n",
        "  return False\n",
        "\n",
        "\n",
        "def seg(pontos1, pontos2):\n",
        "  pts1 = []\n",
        "  pts2 = []\n",
        "  for i in range (0, len(pontos1)-1):\n",
        "    if(pontos1[i].x < pontos1[i+1].x):\n",
        "        seg = Segment(pontos1[i],pontos1[i+1], 0)\n",
        "        pts1.append(seg)\n",
        "    else:\n",
        "        seg = Segment(pontos1[i+1],pontos1[i], 0)\n",
        "        pts1.append(seg)\n",
        "\n",
        "  seg = Segment(pontos1[0],pontos1[len(pontos1)-1], 0)\n",
        "  pts1.append(seg)\n",
        "\n",
        "  for i in range (0, len(pontos2)-1):\n",
        "    if(pontos2[i].x < pontos2[i+1].x):\n",
        "        seg = Segment(pontos2[i],pontos2[i+1], 1)\n",
        "        pts2.append(seg)\n",
        "    else:\n",
        "        seg = Segment(pontos2[i+1],pontos2[i], 1)\n",
        "        pts2.append(seg)    \n",
        "  seg = Segment(pontos2[0],pontos2[len(pontos2)-1], 1)\n",
        "  pts2.append(seg)\n",
        "\n",
        "  concat = pts2 + pts1  \n",
        "  return concat\n"
      ],
      "metadata": {
        "id": "bzQ7uCLLLrfY",
        "colab": {
          "base_uri": "https://localhost:8080/"
        },
        "outputId": "d16e08a4-3f9e-40a0-9305-f1f8976bde7d"
      },
      "execution_count": null,
      "outputs": [
        {
          "output_type": "stream",
          "name": "stdout",
          "text": [
            "Looking in indexes: https://pypi.org/simple, https://us-python.pkg.dev/colab-wheels/public/simple/\n",
            "Requirement already satisfied: bintrees in /usr/local/lib/python3.7/dist-packages (2.2.0)\n"
          ]
        }
      ]
    },
    {
      "cell_type": "markdown",
      "source": [
        "##Pontos mais próximos\n",
        "Para achar os vértices mais próximos foi usado um algoritmo de força bruta  que para cada ponto em uma envoltória calcula a distância para todos os pontos na outra envoltória e retorna o par de pontos que possue a menor distância. Portanto esse algoritmo é O(n * m), em que n é o número de vértices em uma envoltória e m é o número de vértices na outra envoltória."
      ],
      "metadata": {
        "id": "IkXY2Mmrv7-Z"
      }
    },
    {
      "cell_type": "code",
      "source": [
        "import math\n",
        "import copy\n",
        "def dist(p1, p2):\n",
        "    return math.sqrt((p1.x - p2.x) * \n",
        "                     (p1.x - p2.x) +\n",
        "                     (p1.y - p2.y) * \n",
        "                     (p1.y - p2.y)) \n",
        "  \n",
        "def mindist(pontos1, pontos0):\n",
        "  distancia = float('inf')\n",
        "\n",
        "  for i in range (0,len(pontos1)):\n",
        "    for j in range (0, len(pontos0)):\n",
        "      d = dist(pontos1[i], pontos0[j])\n",
        "      if distancia > d:\n",
        "        po1 = pontos1[i]\n",
        "        po0 = pontos0[j]\n",
        "        distancia = d\n",
        "  return po0, po1\n"
      ],
      "metadata": {
        "id": "4dzcHM53wggr"
      },
      "execution_count": null,
      "outputs": []
    },
    {
      "cell_type": "markdown",
      "source": [
        "##Modelo\n",
        "Para achar o modelo primeiro foi calculada a equação da reta R que une os pontos mais próximos e então foi calculada a equação da reta que é perpendicular a R e passa pelo ponto médio do segmento que une os pontos. Para achar a equação da reta é necessário achar m e coef tal que mx + coef = y.\n"
      ],
      "metadata": {
        "id": "ZNf85k4oxEkc"
      }
    },
    {
      "cell_type": "code",
      "source": [
        "def modelo(po0, po1):\n",
        "  mediax = (po0.x + po1.x)/2\n",
        "  mediay = (po0.y + po1.y)/2\n",
        "  if(po0.x - po1.x != 0):\n",
        "    m1 = (po0.y - po1.y)/(po0.x - po1.x)\n",
        "  else:\n",
        "    m1 = (po0.y - po1.y/po0.x - po1.x + 0.0001)\n",
        "  coef = (m1 * -po0.x) + po0.y\n",
        "  if(m1 != 0):\n",
        "      m2 = -1/m1\n",
        "  else:\n",
        "      mm2 = -1/0.00001\n",
        "  coef1 = m2 * -mediax + mediay\n",
        "  p0 = Point(mediax, mediay)\n",
        "  p1 = Point(-coef1/m2 , 0)\n",
        "  return p0,p1, m2,coef1"
      ],
      "metadata": {
        "id": "JINSEBLiWnZe"
      },
      "execution_count": null,
      "outputs": []
    },
    {
      "cell_type": "code",
      "source": [
        "def randpoints(a, b, c):\n",
        "  points = []\n",
        "  for i in range (0, c):\n",
        "    points.append(Point(random.randint(a, b),random.randint(a, b)))\n",
        "  return points\n",
        "\n"
      ],
      "metadata": {
        "id": "hbBHBwsAKYqR"
      },
      "execution_count": null,
      "outputs": []
    },
    {
      "cell_type": "code",
      "source": [
        "from numpy import linspace\n",
        "\n",
        "\n",
        "def teste(a, b ,c, d, e, f):\n",
        "    points = randpoints(a,b,c)\n",
        "    pontos0, pontosx0, pontosy0 = convexHull(points, len(points))\n",
        "\n",
        "    points = randpoints(d,e,f)\n",
        "    pontos1, pontosx1, pontosy1 = convexHull(points, len(points))\n",
        "\n",
        "    arr = seg(pontos0, pontos1)\n",
        "\n",
        "    erro = intersect(arr)\n",
        "\n",
        "    po0, po1 = mindist(pontos0, pontos1)\n",
        "\n",
        "\n",
        "    mediax, mediay, m, coef = modelo(po0, po1)\n",
        "\n",
        "    def f(x): return m*x + coef  \n",
        "    x = np.linspace(a,e)  \n",
        "    plt.plot(x, f(x))\n",
        "\n",
        "    plt.axis('equal') \n",
        "    plt.plot(pontosx0, pontosy0)\n",
        "    plt.plot(pontosx1, pontosy1)\n",
        "    plt.plot([po0.x, po1.x],[po0.y,po1.y])\n",
        "\n",
        "    if(erro == 1):\n",
        "      print(\"interceptam\")\n",
        "    else:\n",
        "      print(\"nao interceptam\")\n"
      ],
      "metadata": {
        "id": "Ksn-3BJTSyZu"
      },
      "execution_count": null,
      "outputs": []
    },
    {
      "cell_type": "code",
      "source": [
        "teste(10, 10000, 30, 5000, 20000, 30)"
      ],
      "metadata": {
        "colab": {
          "base_uri": "https://localhost:8080/",
          "height": 282
        },
        "id": "_os9F88mIowW",
        "outputId": "bb0fc39c-92b3-4878-c14f-3a55c6bda72f"
      },
      "execution_count": null,
      "outputs": [
        {
          "output_type": "stream",
          "name": "stdout",
          "text": [
            "interceptam\n"
          ]
        },
        {
          "output_type": "display_data",
          "data": {
            "text/plain": [
              "<Figure size 432x288 with 1 Axes>"
            ],
            "image/png": "[encoded data removed]"
          },
          "metadata": {
            "needs_background": "light"
          }
        }
      ]
    },
    {
      "cell_type": "code",
      "source": [
        "teste(10, 100, 15, 50, 200, 15)"
      ],
      "metadata": {
        "id": "HEGQPDepKUG0",
        "colab": {
          "base_uri": "https://localhost:8080/",
          "height": 282
        },
        "outputId": "35b972b3-522f-4cbe-cb02-de3b877d39d3"
      },
      "execution_count": null,
      "outputs": [
        {
          "output_type": "stream",
          "name": "stdout",
          "text": [
            "interceptam\n"
          ]
        },
        {
          "output_type": "display_data",
          "data": {
            "text/plain": [
              "<Figure size 432x288 with 1 Axes>"
            ],
            "image/png": "[encoded data removed]"
          },
          "metadata": {
            "needs_background": "light"
          }
        }
      ]
    },
    {
      "cell_type": "code",
      "source": [
        "teste(10, 100, 15, 50, 200, 15)"
      ],
      "metadata": {
        "colab": {
          "base_uri": "https://localhost:8080/",
          "height": 282
        },
        "id": "wxzp9jAEIxrz",
        "outputId": "9ba6d185-4efb-44d3-a996-d6db59d51c30"
      },
      "execution_count": null,
      "outputs": [
        {
          "output_type": "stream",
          "name": "stdout",
          "text": [
            "nao interceptam\n"
          ]
        },
        {
          "output_type": "display_data",
          "data": {
            "text/plain": [
              "<Figure size 432x288 with 1 Axes>"
            ],
            "image/png": "[encoded data removed]"
          },
          "metadata": {
            "needs_background": "light"
          }
        }
      ]
    },
    {
      "cell_type": "code",
      "source": [
        "teste(10, 100, 15, 50, 200, 15)"
      ],
      "metadata": {
        "colab": {
          "base_uri": "https://localhost:8080/",
          "height": 282
        },
        "id": "4LHwCvujIx1-",
        "outputId": "f9ef7e10-f054-4bd6-8feb-3eb0d440bd7a"
      },
      "execution_count": null,
      "outputs": [
        {
          "output_type": "stream",
          "name": "stdout",
          "text": [
            "interceptam\n"
          ]
        },
        {
          "output_type": "display_data",
          "data": {
            "text/plain": [
              "<Figure size 432x288 with 1 Axes>"
            ],
            "image/png": "[encoded data removed]"
          },
          "metadata": {
            "needs_background": "light"
          }
        }
      ]
    },
    {
      "cell_type": "code",
      "source": [
        "teste(10, 100, 15, 50, 200, 15)"
      ],
      "metadata": {
        "colab": {
          "base_uri": "https://localhost:8080/",
          "height": 282
        },
        "id": "3xFdv-syIx-W",
        "outputId": "ce6b53fd-0a28-4e4c-9d5e-022329bbea62"
      },
      "execution_count": null,
      "outputs": [
        {
          "output_type": "stream",
          "name": "stdout",
          "text": [
            "interceptam\n"
          ]
        },
        {
          "output_type": "display_data",
          "data": {
            "text/plain": [
              "<Figure size 432x288 with 1 Axes>"
            ],
            "image/png": "[encoded data removed]"
          },
          "metadata": {
            "needs_background": "light"
          }
        }
      ]
    },
    {
      "cell_type": "code",
      "source": [
        "def classificador(m, coef, pontos):\n",
        "  for ponto in pontos:\n",
        "      param = m*ponto[0]+coef\n",
        "      if(param < ponto[1]):\n",
        "          ponto[3] = 0\n",
        "      if(param > ponto[1]):\n",
        "          ponto[3] = 1\n",
        "      else:\n",
        "          ponto[3] = -1\n",
        "def metricas(pontos):\n",
        "    verdadeiro_positivo = 0\n",
        "    verdadeiro_negativo = 0\n",
        "    falso_positivo = 0\n",
        "    falso_negativo = 0\n",
        "    for ponto in pontos:\n",
        "      if ponto[2] == ponto[3] and ponto[2] == 1:\n",
        "        verdadeiro_positivo += verdadeiro_positivo\n",
        "      if ponto[2] == ponto[3] and ponto[2] == 0:\n",
        "        verdadeiro_negativo += verdadeiro_negativo\n",
        "      if ponto[2] != ponto[3] and ponto[2] == 1:\n",
        "        falso_positivo += falso_positivo\n",
        "      if ponto[2] != ponto[3] and ponto[2] == 0:\n",
        "        falso_negativo += falso_negativo\n",
        "\n"
      ],
      "metadata": {
        "id": "DV64X1BZKo-M"
      },
      "execution_count": null,
      "outputs": []
    },
    {
      "cell_type": "code",
      "source": [
        "\n"
      ],
      "metadata": {
        "colab": {
          "base_uri": "https://localhost:8080/",
          "height": 321
        },
        "id": "Y_VaArxmHafN",
        "outputId": "5489759f-5d82-47b5-efb8-7f18cfd787dd"
      },
      "execution_count": null,
      "outputs": [
        {
          "output_type": "error",
          "ename": "ModuleNotFoundError",
          "evalue": "ignored",
          "traceback": [
            "\u001b[0;31m---------------------------------------------------------------------------\u001b[0m",
            "\u001b[0;31mModuleNotFoundError\u001b[0m                       Traceback (most recent call last)",
            "\u001b[0;32m<ipython-input-70-569ae471948e>\u001b[0m in \u001b[0;36m<module>\u001b[0;34m\u001b[0m\n\u001b[0;32m----> 1\u001b[0;31m \u001b[0;32mimport\u001b[0m \u001b[0mRKEEL\u001b[0m\u001b[0;34m\u001b[0m\u001b[0;34m\u001b[0m\u001b[0m\n\u001b[0m\u001b[1;32m      2\u001b[0m \u001b[0mread\u001b[0m\u001b[0;34m.\u001b[0m\u001b[0mkeel\u001b[0m\u001b[0;34m(\u001b[0m\u001b[0;34m\"/content/banana.dat\"\u001b[0m\u001b[0;34m)\u001b[0m\u001b[0;34m\u001b[0m\u001b[0;34m\u001b[0m\u001b[0m\n",
            "\u001b[0;31mModuleNotFoundError\u001b[0m: No module named 'RKEEL'",
            "",
            "\u001b[0;31m---------------------------------------------------------------------------\u001b[0;32m\nNOTE: If your import is failing due to a missing package, you can\nmanually install dependencies using either !pip or !apt.\n\nTo view examples of installing some common dependencies, click the\n\"Open Examples\" button below.\n\u001b[0;31m---------------------------------------------------------------------------\u001b[0m\n"
          ],
          "errorDetails": {
            "actions": [
              {
                "action": "open_url",
                "actionText": "Open Examples",
                "url": "/notebooks/snippets/importing_libraries.ipynb"
              }
            ]
          }
        }
      ]
    }
  ]
}